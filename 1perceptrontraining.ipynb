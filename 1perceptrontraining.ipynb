{
  "nbformat": 4,
  "nbformat_minor": 0,
  "metadata": {
    "colab": {
      "name": "1perceptrontraining.ipynb",
      "provenance": [],
      "authorship_tag": "ABX9TyP/vkNP5YttnbtPv6oQoAJz",
      "include_colab_link": true
    },
    "kernelspec": {
      "name": "python3",
      "display_name": "Python 3"
    },
    "language_info": {
      "name": "python"
    }
  },
  "cells": [
    {
      "cell_type": "markdown",
      "metadata": {
        "id": "view-in-github",
        "colab_type": "text"
      },
      "source": [
        "<a href=\"https://colab.research.google.com/github/shaista55/ml1/blob/main/1perceptrontraining.ipynb\" target=\"_parent\"><img src=\"https://colab.research.google.com/assets/colab-badge.svg\" alt=\"Open In Colab\"/></a>"
      ]
    },
    {
      "cell_type": "code",
      "metadata": {
        "colab": {
          "base_uri": "https://localhost:8080/"
        },
        "id": "ZQadFqGfbKeK",
        "outputId": "9e2cced7-b23c-4e7f-9216-ed1f759c3ab5"
      },
      "source": [
        "from google.colab import drive\n",
        "drive.mount('/content/drive')\n"
      ],
      "execution_count": null,
      "outputs": [
        {
          "output_type": "stream",
          "text": [
            "Mounted at /content/drive\n"
          ],
          "name": "stdout"
        }
      ]
    },
    {
      "cell_type": "code",
      "metadata": {
        "id": "DUqDpRGRdby6"
      },
      "source": [
        "cd '/content/drive/MyDrive/live session'"
      ],
      "execution_count": null,
      "outputs": []
    },
    {
      "cell_type": "code",
      "metadata": {
        "id": "ZiXvD0IzeLds"
      },
      "source": [
        ""
      ],
      "execution_count": null,
      "outputs": []
    },
    {
      "cell_type": "markdown",
      "metadata": {
        "id": "s0WSvmH4eNRi"
      },
      "source": [
        "#data creation\n",
        "\n",
        "\n",
        "```\n",
        "# This is formatted as code\n",
        "```\n",
        "\n",
        "\n",
        "Equation: \"y=10x\"\n",
        "\n",
        "\n",
        "```\n",
        "# This is formatted as code\n",
        "```\n",
        "\n",
        "\n",
        "\n",
        "\n",
        "xTrain=[0,1,,2,3,4,5,.....]\n",
        "yTrain=[0,10,20,30,40,50,.....]\n",
        "\n",
        "\n",
        "\n",
        "\n",
        "\n",
        "\n",
        "```\n",
        "# This is formatted as code\n",
        "```\n",
        "\n",
        "\n",
        "\n"
      ]
    },
    {
      "cell_type": "code",
      "metadata": {
        "id": "Vv1kHha5fFXL"
      },
      "source": [
        ""
      ],
      "execution_count": null,
      "outputs": []
    },
    {
      "cell_type": "code",
      "metadata": {
        "colab": {
          "base_uri": "https://localhost:8080/"
        },
        "id": "lATl6r5uWAXO",
        "outputId": "ee1bddad-5ff9-44bf-ce17-1541b930d210"
      },
      "source": [
        "print('hello')\n"
      ],
      "execution_count": null,
      "outputs": [
        {
          "output_type": "stream",
          "text": [
            "hello\n"
          ],
          "name": "stdout"
        }
      ]
    },
    {
      "cell_type": "code",
      "metadata": {
        "colab": {
          "base_uri": "https://localhost:8080/"
        },
        "id": "HXfF2SSigSGs",
        "outputId": "8e0cface-8f4d-41a4-a0fa-3ec28e7f7144"
      },
      "source": [
        "x=[i for i in  range(21)]\n",
        "print(x)"
      ],
      "execution_count": null,
      "outputs": [
        {
          "output_type": "stream",
          "text": [
            "[0, 1, 2, 3, 4, 5, 6, 7, 8, 9, 10, 11, 12, 13, 14, 15, 16, 17, 18, 19, 20]\n"
          ],
          "name": "stdout"
        }
      ]
    },
    {
      "cell_type": "code",
      "metadata": {
        "colab": {
          "base_uri": "https://localhost:8080/"
        },
        "id": "gL1aGkX1g94a",
        "outputId": "bc95a919-17bc-408b-f184-62b9202efb6f"
      },
      "source": [
        "y=[i for i in  range(10*20+1) if i%10==0]\n",
        "print(y)"
      ],
      "execution_count": null,
      "outputs": [
        {
          "output_type": "stream",
          "text": [
            "[0, 10, 20, 30, 40, 50, 60, 70, 80, 90, 100, 110, 120, 130, 140, 150, 160, 170, 180, 190, 200]\n"
          ],
          "name": "stdout"
        }
      ]
    },
    {
      "cell_type": "code",
      "metadata": {
        "id": "LH7p7JNWhcPI"
      },
      "source": [
        ""
      ],
      "execution_count": null,
      "outputs": []
    },
    {
      "cell_type": "markdown",
      "metadata": {
        "id": "p28onTIqiI-q"
      },
      "source": [
        "Approach 1\n",
        "\n",
        "## y=10x"
      ]
    },
    {
      "cell_type": "code",
      "metadata": {
        "id": "1O8qjaZ5iaWt"
      },
      "source": [
        ""
      ],
      "execution_count": null,
      "outputs": []
    },
    {
      "cell_type": "markdown",
      "metadata": {
        "id": "wPtITliSifhk"
      },
      "source": [
        "Approach 2\n",
        "ML model"
      ]
    },
    {
      "cell_type": "code",
      "metadata": {
        "colab": {
          "base_uri": "https://localhost:8080/"
        },
        "id": "GsAcf3c1ikqR",
        "outputId": "f2411e00-2c75-462e-d35c-b20e00750e13"
      },
      "source": [
        "print(f'This is x:{x}')\n",
        "print(f'This is y:{y}')"
      ],
      "execution_count": null,
      "outputs": [
        {
          "output_type": "stream",
          "text": [
            "This is x:[0, 1, 2, 3, 4, 5, 6, 7, 8, 9, 10, 11, 12, 13, 14, 15, 16, 17, 18, 19, 20]\n",
            "This is y:[0, 10, 20, 30, 40, 50, 60, 70, 80, 90, 100, 110, 120, 130, 140, 150, 160, 170, 180, 190, 200]\n"
          ],
          "name": "stdout"
        }
      ]
    },
    {
      "cell_type": "code",
      "metadata": {
        "colab": {
          "base_uri": "https://localhost:8080/"
        },
        "id": "EZWHEaTWjeK_",
        "outputId": "bad0748c-770c-48c3-ad8c-a1ffff469d1f"
      },
      "source": [
        "print(y[:-5])"
      ],
      "execution_count": null,
      "outputs": [
        {
          "output_type": "stream",
          "text": [
            "[0, 10, 20, 30, 40, 50, 60, 70, 80, 90, 100, 110, 120, 130, 140, 150]\n"
          ],
          "name": "stdout"
        }
      ]
    },
    {
      "cell_type": "code",
      "metadata": {
        "id": "S5KCrTQyjtPf"
      },
      "source": [
        "xTrain=x[:-5]\n",
        "yTrain=y[:-5]\n",
        "\n",
        "\n",
        "xTest=x[-5:]\n",
        "yTest=y[-5:]\n",
        "\n",
        "print(f'''\n",
        "Training Data\n",
        "xTrain:{xTrain}\n",
        "yTrain:{yTrain}\n",
        "\n",
        "Testing DAta\n",
        "xTest;{}\n",
        "''')"
      ],
      "execution_count": null,
      "outputs": []
    },
    {
      "cell_type": "markdown",
      "metadata": {
        "id": "E-g5OtNGikFe"
      },
      "source": [
        ""
      ]
    }
  ]
}